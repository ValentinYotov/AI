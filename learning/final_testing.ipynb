{
 "cells": [
  {
   "cell_type": "code",
   "execution_count": 1,
   "metadata": {},
   "outputs": [],
   "source": [
    "import numpy as np"
   ]
  },
  {
   "cell_type": "code",
   "execution_count": 2,
   "metadata": {},
   "outputs": [],
   "source": [
    "def will_it_work(meshes, currents, resistor_to_max_current):\n",
    "    for mesh in meshes:\n",
    "        for resis in mesh['resistors']:\n",
    "            resistor_index = resis['resistor_idx']\n",
    "            current_index = resis['current_index']\n",
    "            current = abs(currents[current_index])\n",
    "            if current > resistor_to_max_current[resistor_index]:\n",
    "                return False\n",
    "    return True\n",
    "\n",
    "def calculate_powers(meshes, currents):\n",
    "    powers = []\n",
    "    for mesh in meshes:\n",
    "        for resis in mesh['resistors']:\n",
    "            current_index = resis['current_index']\n",
    "            current = abs(currents[current_index])\n",
    "            powers.append((current**2)*resis['value'])\n",
    "    return powers"
   ]
  },
  {
   "cell_type": "code",
   "execution_count": 4,
   "metadata": {},
   "outputs": [
    {
     "name": "stdout",
     "output_type": "stream",
     "text": [
      "Веригата ще работи? Да\n",
      "Мощности на резисторите: [10.0, 7.199999999999999, 33.75]\n"
     ]
    }
   ],
   "source": [
    "meshes = [\n",
    "    {\n",
    "        \"resistors\": [\n",
    "            {\"resistor_idx\": 0, \"value\": 10.0, \"current_index\": 0},\n",
    "            {\"resistor_idx\": 2, \"value\": 5.0, \"current_index\": 1},\n",
    "        ]\n",
    "    },\n",
    "    {\n",
    "        \"resistors\": [\n",
    "            {\"resistor_idx\": 1, \"value\": 15.0, \"current_index\": 2},\n",
    "        ]\n",
    "    }\n",
    "]\n",
    "\n",
    "currents = [1.00, 1.2, 1.5]  # Токове в Ампери\n",
    "resistor_to_max_current = [1.0, 1.5, 2.5]  # Максимално допустими токове\n",
    "\n",
    "# Проверка дали веригата ще работи\n",
    "is_safe = will_it_work(meshes, currents, resistor_to_max_current)\n",
    "print(\"Веригата ще работи?\" , \"Да\" if is_safe else \"Не\")\n",
    "\n",
    "# Изчисляване на мощностите\n",
    "powers = calculate_powers(meshes, currents)\n",
    "print(\"Мощности на резисторите:\", powers)"
   ]
  },
  {
   "cell_type": "code",
   "execution_count": null,
   "metadata": {},
   "outputs": [
    {
     "name": "stdout",
     "output_type": "stream",
     "text": [
      "[[0. 0. 0.]\n",
      " [0. 0. 0.]\n",
      " [0. 0. 0.]]\n"
     ]
    },
    {
     "ename": "KeyError",
     "evalue": "'mesh_id'",
     "output_type": "error",
     "traceback": [
      "\u001b[1;31m---------------------------------------------------------------------------\u001b[0m",
      "\u001b[1;31mKeyError\u001b[0m                                  Traceback (most recent call last)",
      "Cell \u001b[1;32mIn[7], line 38\u001b[0m\n\u001b[0;32m     34\u001b[0m     \u001b[38;5;28;01mexcept\u001b[39;00m np\u001b[38;5;241m.\u001b[39mlinalg\u001b[38;5;241m.\u001b[39mLinAlgError:\n\u001b[0;32m     35\u001b[0m         \u001b[38;5;66;03m# Ако матрицата е сингулярна, хвърляме грешка\u001b[39;00m\n\u001b[0;32m     36\u001b[0m         \u001b[38;5;28;01mraise\u001b[39;00m ShortCircuitError(\u001b[38;5;124m\"\u001b[39m\u001b[38;5;124mСистемата няма решение. Възможно е късо съединение.\u001b[39m\u001b[38;5;124m\"\u001b[39m)\n\u001b[1;32m---> 38\u001b[0m solve_for_currents(meshes)\n",
      "Cell \u001b[1;32mIn[7], line 23\u001b[0m, in \u001b[0;36msolve_for_currents\u001b[1;34m(meshes)\u001b[0m\n\u001b[0;32m     21\u001b[0m     direction \u001b[38;5;241m=\u001b[39m resistor\u001b[38;5;241m.\u001b[39mget(\u001b[38;5;124m\"\u001b[39m\u001b[38;5;124mdirection\u001b[39m\u001b[38;5;124m\"\u001b[39m, \u001b[38;5;124m\"\u001b[39m\u001b[38;5;124mpositive\u001b[39m\u001b[38;5;124m\"\u001b[39m)  \u001b[38;5;66;03m# Посока на тока\u001b[39;00m\n\u001b[0;32m     22\u001b[0m     direction \u001b[38;5;241m=\u001b[39m \u001b[38;5;241m1\u001b[39m \u001b[38;5;28;01mif\u001b[39;00m direction \u001b[38;5;241m==\u001b[39m \u001b[38;5;124m\"\u001b[39m\u001b[38;5;124mpositive\u001b[39m\u001b[38;5;124m\"\u001b[39m \u001b[38;5;28;01melse\u001b[39;00m \u001b[38;5;241m-\u001b[39m\u001b[38;5;241m1\u001b[39m\n\u001b[1;32m---> 23\u001b[0m     resistance_matrix[mesh[\u001b[38;5;124m\"\u001b[39m\u001b[38;5;124mmesh_id\u001b[39m\u001b[38;5;124m\"\u001b[39m], current_idx] \u001b[38;5;241m+\u001b[39m\u001b[38;5;241m=\u001b[39m direction \u001b[38;5;241m*\u001b[39m resistor[\u001b[38;5;124m\"\u001b[39m\u001b[38;5;124mvalue\u001b[39m\u001b[38;5;124m\"\u001b[39m]  \u001b[38;5;66;03m# Добавяме съпротивление\u001b[39;00m\n\u001b[0;32m     25\u001b[0m \u001b[38;5;28;01mfor\u001b[39;00m voltage \u001b[38;5;129;01min\u001b[39;00m mesh\u001b[38;5;241m.\u001b[39mget(\u001b[38;5;124m\"\u001b[39m\u001b[38;5;124mvoltages\u001b[39m\u001b[38;5;124m\"\u001b[39m, []):\n\u001b[0;32m     26\u001b[0m     direction \u001b[38;5;241m=\u001b[39m voltage\u001b[38;5;241m.\u001b[39mget(\u001b[38;5;124m\"\u001b[39m\u001b[38;5;124mdirection\u001b[39m\u001b[38;5;124m\"\u001b[39m, \u001b[38;5;124m\"\u001b[39m\u001b[38;5;124mrising\u001b[39m\u001b[38;5;124m\"\u001b[39m)  \u001b[38;5;66;03m# Посока на напрежението\u001b[39;00m\n",
      "\u001b[1;31mKeyError\u001b[0m: 'mesh_id'"
     ]
    }
   ],
   "source": [
    "import numpy as np\n",
    "\n",
    "class ShortCircuitError(Exception):\n",
    "    \"\"\"Грешка, ако системата няма решение (сингулярна матрица).\"\"\"\n",
    "    pass\n",
    "\n",
    "def solve_for_currents(meshes):\n",
    "    \n",
    "    # Определяме броя на неизвестните токове\n",
    "    num_currents = len({resistor[\"current_index\"] for mesh in meshes for resistor in mesh[\"resistors\"]})\n",
    "    \n",
    "    # Инициализиране на матрица на съпротивленията (A) и вектор на напреженията (B)\n",
    "    resistance_matrix = np.zeros((num_currents, num_currents))  # Матрица A\n",
    "    print(resistance_matrix)\n",
    "    voltage_vector = np.zeros(num_currents)  # Вектор B\n",
    "    \n",
    "    # Построяване на системата\n",
    "    for mesh in meshes:\n",
    "        for resistor in mesh[\"resistors\"]:\n",
    "            current_idx = resistor[\"current_index\"]  # Индекс на тока\n",
    "            direction = resistor.get(\"direction\", \"positive\")  # Посока на тока\n",
    "            direction = 1 if direction == \"positive\" else -1\n",
    "            resistance_matrix[mesh[\"mesh_id\"], current_idx] += direction * resistor[\"value\"]  # Добавяме съпротивление\n",
    "        \n",
    "        for voltage in mesh.get(\"voltages\", []):\n",
    "            direction = voltage.get(\"direction\", \"rising\")  # Посока на напрежението\n",
    "            direction = 1 if direction == \"rising\" else -1\n",
    "            voltage_vector[mesh[\"mesh_id\"]] += direction * voltage[\"value\"]  # Добавяме напрежение\n",
    "    \n",
    "    # Решаване на системата A * X = B\n",
    "    try:\n",
    "        currents = np.linalg.solve(resistance_matrix, voltage_vector)  # Решаваме чрез numpy\n",
    "        return currents.tolist()\n",
    "    except np.linalg.LinAlgError:\n",
    "        # Ако матрицата е сингулярна, хвърляме грешка\n",
    "        raise ShortCircuitError(\"Системата няма решение. Възможно е късо съединение.\")\n",
    "\n",
    "solve_for_currents(meshes)\n"
   ]
  },
  {
   "cell_type": "code",
   "execution_count": 11,
   "metadata": {},
   "outputs": [
    {
     "data": {
      "text/plain": [
       "[{'resistors': [{'resistor_idx': 0, 'value': 10.0, 'current_index': 0},\n",
       "   {'resistor_idx': 2, 'value': 5.0, 'current_index': 1}]},\n",
       " {'resistors': [{'resistor_idx': 1, 'value': 15.0, 'current_index': 2}]}]"
      ]
     },
     "execution_count": 11,
     "metadata": {},
     "output_type": "execute_result"
    }
   ],
   "source": [
    "import pandas as pd\n",
    "meshes"
   ]
  },
  {
   "cell_type": "code",
   "execution_count": 17,
   "metadata": {},
   "outputs": [],
   "source": [
    "dict = {'az':'Valio','az':'misho'}"
   ]
  },
  {
   "cell_type": "code",
   "execution_count": 19,
   "metadata": {},
   "outputs": [],
   "source": [
    "dicti = dict.get('az',22)"
   ]
  },
  {
   "cell_type": "code",
   "execution_count": 20,
   "metadata": {},
   "outputs": [
    {
     "data": {
      "text/plain": [
       "'misho'"
      ]
     },
     "execution_count": 20,
     "metadata": {},
     "output_type": "execute_result"
    }
   ],
   "source": [
    "dicti"
   ]
  },
  {
   "cell_type": "code",
   "execution_count": 21,
   "metadata": {},
   "outputs": [
    {
     "name": "stdout",
     "output_type": "stream",
     "text": [
      "create\n",
      "update\n",
      "check\n",
      "check\n",
      "update\n"
     ]
    }
   ],
   "source": [
    "operations = [\n",
    "    {\"operation\": \"create\", \"order_id\": 4, \"address\": \"ул. Раковски 25\", \"status\": \"pending\"},\n",
    "    {\"operation\": \"update\", \"order_id\": 2, \"status\": \"completed\"},\n",
    "    {\"operation\": \"check\", \"order_id\": 1},\n",
    "    {\"operation\": \"check\", \"order_id\": 4},\n",
    "    {\"operation\": \"update\", \"order_id\": 5, \"status\": \"in progress\"}  # Опитай да обновиш несъществуваща поръчка\n",
    "]\n",
    "for oper in operations:\n",
    "    print(oper['operation'])"
   ]
  },
  {
   "cell_type": "code",
   "execution_count": 22,
   "metadata": {},
   "outputs": [],
   "source": [
    "def solve_for_currents(nodes,meshes):\n",
    "    num_currents = len(nodes)\n",
    "    resistance_matrix = np.zeros((num_currents, num_currents))\n",
    "    voltage_vector = np.zeros(num_currents)\n",
    "    for mesh in meshes:\n",
    "        for resistor in mesh['resistors']:\n",
    "            current_idx = resistor['current_index']\n",
    "            direction = resistor.get('direction','positive')\n",
    "            direction = 1 if direction == 'positive' else -1\n",
    "            resistance_matrix[mesh['mesh_id'],current_idx] += direction * resistor['value']\n",
    "        for voltage in mesh.get('voltages',[]):\n",
    "            direction = voltage.get('direction','rising')\n",
    "            direction = 1 if direction == 'rising' else -1\n",
    "            voltage_vector[mesh['mesh_id']] += direction * voltage['value']\n",
    "    try:\n",
    "        currents = np.linalg.solve(resistance_matrix,voltage_vector)\n",
    "        return currents.tolist()\n",
    "    except np.linalg.LinAlgError:\n",
    "        raise ShortCircuitError('Системата няма решение. Възможно е късо съединение.')\n"
   ]
  },
  {
   "cell_type": "code",
   "execution_count": 23,
   "metadata": {},
   "outputs": [
    {
     "ename": "NameError",
     "evalue": "name 'nodes' is not defined",
     "output_type": "error",
     "traceback": [
      "\u001b[1;31m---------------------------------------------------------------------------\u001b[0m",
      "\u001b[1;31mNameError\u001b[0m                                 Traceback (most recent call last)",
      "Cell \u001b[1;32mIn[23], line 1\u001b[0m\n\u001b[1;32m----> 1\u001b[0m solve_for_currents(nodes,meshes)\n",
      "\u001b[1;31mNameError\u001b[0m: name 'nodes' is not defined"
     ]
    }
   ],
   "source": [
    "solve_for_currents(nodes,meshes)"
   ]
  },
  {
   "cell_type": "code",
   "execution_count": 24,
   "metadata": {},
   "outputs": [],
   "source": [
    "nodes = { \n",
    "    \"node_1\": {\"type\": \"source\", \"voltage\": 10.0},\n",
    "    \"node_2\": {\"type\": \"source\", \"voltage\": 5.0},\n",
    "    \"node_3\": {\"type\": \"sink\"},\n",
    "    \"node_4\": {\"type\": \"sink\"},\n",
    "    \"node_5\": {\"type\": \"sink\"}\n",
    "}"
   ]
  },
  {
   "cell_type": "code",
   "execution_count": 25,
   "metadata": {},
   "outputs": [
    {
     "ename": "KeyError",
     "evalue": "'mesh_id'",
     "output_type": "error",
     "traceback": [
      "\u001b[1;31m---------------------------------------------------------------------------\u001b[0m",
      "\u001b[1;31mKeyError\u001b[0m                                  Traceback (most recent call last)",
      "Cell \u001b[1;32mIn[25], line 1\u001b[0m\n\u001b[1;32m----> 1\u001b[0m solve_for_currents(nodes,meshes)\n",
      "Cell \u001b[1;32mIn[22], line 10\u001b[0m, in \u001b[0;36msolve_for_currents\u001b[1;34m(nodes, meshes)\u001b[0m\n\u001b[0;32m      8\u001b[0m     direction \u001b[38;5;241m=\u001b[39m resistor\u001b[38;5;241m.\u001b[39mget(\u001b[38;5;124m'\u001b[39m\u001b[38;5;124mdirection\u001b[39m\u001b[38;5;124m'\u001b[39m,\u001b[38;5;124m'\u001b[39m\u001b[38;5;124mpositive\u001b[39m\u001b[38;5;124m'\u001b[39m)\n\u001b[0;32m      9\u001b[0m     direction \u001b[38;5;241m=\u001b[39m \u001b[38;5;241m1\u001b[39m \u001b[38;5;28;01mif\u001b[39;00m direction \u001b[38;5;241m==\u001b[39m \u001b[38;5;124m'\u001b[39m\u001b[38;5;124mpositive\u001b[39m\u001b[38;5;124m'\u001b[39m \u001b[38;5;28;01melse\u001b[39;00m \u001b[38;5;241m-\u001b[39m\u001b[38;5;241m1\u001b[39m\n\u001b[1;32m---> 10\u001b[0m     resistance_matrix[mesh[\u001b[38;5;124m'\u001b[39m\u001b[38;5;124mmesh_id\u001b[39m\u001b[38;5;124m'\u001b[39m],current_idx] \u001b[38;5;241m+\u001b[39m\u001b[38;5;241m=\u001b[39m direction \u001b[38;5;241m*\u001b[39m resistor[\u001b[38;5;124m'\u001b[39m\u001b[38;5;124mvalue\u001b[39m\u001b[38;5;124m'\u001b[39m]\n\u001b[0;32m     11\u001b[0m \u001b[38;5;28;01mfor\u001b[39;00m voltage \u001b[38;5;129;01min\u001b[39;00m mesh\u001b[38;5;241m.\u001b[39mget(\u001b[38;5;124m'\u001b[39m\u001b[38;5;124mvoltages\u001b[39m\u001b[38;5;124m'\u001b[39m,[]):\n\u001b[0;32m     12\u001b[0m     direction \u001b[38;5;241m=\u001b[39m voltage\u001b[38;5;241m.\u001b[39mget(\u001b[38;5;124m'\u001b[39m\u001b[38;5;124mdirection\u001b[39m\u001b[38;5;124m'\u001b[39m,\u001b[38;5;124m'\u001b[39m\u001b[38;5;124mrising\u001b[39m\u001b[38;5;124m'\u001b[39m)\n",
      "\u001b[1;31mKeyError\u001b[0m: 'mesh_id'"
     ]
    }
   ],
   "source": [
    "solve_for_currents(nodes,meshes)"
   ]
  },
  {
   "cell_type": "code",
   "execution_count": 26,
   "metadata": {},
   "outputs": [],
   "source": [
    "rows = 5  # Брой редове\n",
    "cols = 7  # Брой колони\n",
    "reserved_seats = [\n",
    "    {\"row\": 1, \"col\": 3},\n",
    "    {\"row\": 2, \"col\": 5},\n",
    "    {\"row\": 4, \"col\": 1},\n",
    "    {\"row\": 5, \"col\": 7}\n",
    "]\n",
    "\n",
    "\n",
    "seats = np.zeros((rows,cols))"
   ]
  },
  {
   "cell_type": "code",
   "execution_count": 28,
   "metadata": {},
   "outputs": [],
   "source": [
    "for seat in reserved_seats:\n",
    "    seats[seat['row']-1,seat['col']-1] = 1"
   ]
  },
  {
   "cell_type": "code",
   "execution_count": 30,
   "metadata": {},
   "outputs": [],
   "source": [
    "def check_seat(seats,row,col):\n",
    "    if seats[row-1,col-1] == 0:\n",
    "        return True\n",
    "    return False"
   ]
  },
  {
   "cell_type": "code",
   "execution_count": 31,
   "metadata": {},
   "outputs": [],
   "source": [
    "def free_seats(seats):\n",
    "    free = 0\n",
    "    for i in range(seats.shape[0]):\n",
    "        for j in range(seats.shape[1]):\n",
    "            if seats[i,j] == 0:\n",
    "                free+=1\n",
    "    return free"
   ]
  },
  {
   "cell_type": "code",
   "execution_count": 32,
   "metadata": {},
   "outputs": [
    {
     "data": {
      "text/plain": [
       "31"
      ]
     },
     "execution_count": 32,
     "metadata": {},
     "output_type": "execute_result"
    }
   ],
   "source": [
    "free_seats(seats)"
   ]
  },
  {
   "cell_type": "code",
   "execution_count": 33,
   "metadata": {},
   "outputs": [
    {
     "data": {
      "text/plain": [
       "2"
      ]
     },
     "execution_count": 33,
     "metadata": {},
     "output_type": "execute_result"
    }
   ],
   "source": [
    "def find_most_empty_row(seats):\n",
    "    max_empty = 0\n",
    "    row = 0\n",
    "    for i in range(seats.shape[0]):\n",
    "        empty = np.sum(seats[i] == 0)\n",
    "        if empty > max_empty:\n",
    "            max_empty = empty\n",
    "            row = i\n",
    "    return row\n",
    "\n",
    "find_most_empty_row(seats)"
   ]
  },
  {
   "cell_type": "code",
   "execution_count": 34,
   "metadata": {},
   "outputs": [
    {
     "data": {
      "text/plain": [
       "array([[0., 0., 1., 0., 0., 0., 0.],\n",
       "       [0., 0., 0., 0., 1., 0., 0.],\n",
       "       [0., 0., 0., 0., 0., 0., 0.],\n",
       "       [1., 0., 0., 0., 0., 0., 0.],\n",
       "       [0., 0., 0., 0., 0., 0., 1.]])"
      ]
     },
     "execution_count": 34,
     "metadata": {},
     "output_type": "execute_result"
    }
   ],
   "source": [
    "seats"
   ]
  },
  {
   "cell_type": "code",
   "execution_count": null,
   "metadata": {},
   "outputs": [
    {
     "ename": "AttributeError",
     "evalue": "'numpy.int32' object has no attribute 'index'",
     "output_type": "error",
     "traceback": [
      "\u001b[1;31m---------------------------------------------------------------------------\u001b[0m",
      "\u001b[1;31mAttributeError\u001b[0m                            Traceback (most recent call last)",
      "Cell \u001b[1;32mIn[41], line 7\u001b[0m\n\u001b[0;32m      1\u001b[0m A \u001b[38;5;241m=\u001b[39mnp\u001b[38;5;241m.\u001b[39marray ([\n\u001b[0;32m      2\u001b[0m     [\u001b[38;5;241m3\u001b[39m, \u001b[38;5;241m5\u001b[39m, \u001b[38;5;241m7\u001b[39m],\n\u001b[0;32m      3\u001b[0m     [\u001b[38;5;241m2\u001b[39m, \u001b[38;5;241m8\u001b[39m, \u001b[38;5;241m1\u001b[39m],\n\u001b[0;32m      4\u001b[0m     [\u001b[38;5;241m6\u001b[39m, \u001b[38;5;241m4\u001b[39m, \u001b[38;5;241m9\u001b[39m]\n\u001b[0;32m      5\u001b[0m ])\n\u001b[0;32m      6\u001b[0m \u001b[38;5;28msum\u001b[39m \u001b[38;5;241m=\u001b[39m \u001b[38;5;241m0\u001b[39m\n\u001b[1;32m----> 7\u001b[0m T \u001b[38;5;241m=\u001b[39m A\u001b[38;5;241m.\u001b[39mmax()\u001b[38;5;241m.\u001b[39mindex()\n\u001b[0;32m      8\u001b[0m \u001b[38;5;28;01mfor\u001b[39;00m i \u001b[38;5;129;01min\u001b[39;00m \u001b[38;5;28mrange\u001b[39m(A\u001b[38;5;241m.\u001b[39mshape[\u001b[38;5;241m0\u001b[39m]):\n\u001b[0;32m      9\u001b[0m     \u001b[38;5;28;01mfor\u001b[39;00m j \u001b[38;5;129;01min\u001b[39;00m \u001b[38;5;28mrange\u001b[39m(A\u001b[38;5;241m.\u001b[39mshape[\u001b[38;5;241m1\u001b[39m]):\n",
      "\u001b[1;31mAttributeError\u001b[0m: 'numpy.int32' object has no attribute 'index'"
     ]
    }
   ],
   "source": [
    "A =np.array ([\n",
    "    [3, 5, 7],\n",
    "    [2, 8, 1],\n",
    "    [6, 4, 9]\n",
    "])\n",
    "sum = 0\n",
    "T = A.max()\n",
    "for i in range(A.shape[0]):\n",
    "    for j in range(A.shape[1]):\n",
    "        sum += A[i,j]\n",
    "sum"
   ]
  },
  {
   "cell_type": "code",
   "execution_count": 42,
   "metadata": {},
   "outputs": [
    {
     "data": {
      "text/plain": [
       "array([[3, 2, 6],\n",
       "       [5, 8, 4],\n",
       "       [7, 1, 9]])"
      ]
     },
     "execution_count": 42,
     "metadata": {},
     "output_type": "execute_result"
    }
   ],
   "source": [
    "A.transpose()"
   ]
  },
  {
   "cell_type": "code",
   "execution_count": 45,
   "metadata": {},
   "outputs": [
    {
     "name": "stdout",
     "output_type": "stream",
     "text": [
      "0\n",
      "4\n",
      "2\n"
     ]
    }
   ],
   "source": [
    "meshes = [\n",
    "{\n",
    "\"mesh_id\": 0,\n",
    "\"resistors\": [\n",
    "{\"resistor_idx\": 0, \"value\": 10.0, \"current_index\": 0, \"direction\": \"positive\"},\n",
    "{\"resistor_idx\": 1, \"current_index\": 4, \"direction\": \"positive\"},\n",
    "{\"resistor_idx\": 2, \"current_index\": 2, \"direction\": \"negative\"}\n",
    "],\n",
    "\"voltages\": [\n",
    "{\"value\": 12.0, \"direction\": \"rising\"},\n",
    "{\"value\": 9.0, \"direction\": \"dropping\"}\n",
    "],\n",
    "},\n",
    "# ...\n",
    "]\n",
    "\n",
    "for mesh in meshes:\n",
    "    for resistor in mesh['resistors']:\n",
    "        print(resistor['current_index'])"
   ]
  },
  {
   "cell_type": "code",
   "execution_count": 46,
   "metadata": {},
   "outputs": [
    {
     "data": {
      "text/plain": [
       "array([-4. ,  4.5])"
      ]
     },
     "execution_count": 46,
     "metadata": {},
     "output_type": "execute_result"
    }
   ],
   "source": [
    "np.linalg.solve(np.array([[1,2],[3,4]]),np.array([5,6]))"
   ]
  },
  {
   "cell_type": "code",
   "execution_count": 52,
   "metadata": {},
   "outputs": [
    {
     "data": {
      "text/plain": [
       "2"
      ]
     },
     "execution_count": 52,
     "metadata": {},
     "output_type": "execute_result"
    }
   ],
   "source": [
    "a = np.array([[1,2,3],[4,5,6],[7,8,9]])\n",
    "np.linalg.matrix_rank(a)"
   ]
  },
  {
   "cell_type": "code",
   "execution_count": 53,
   "metadata": {},
   "outputs": [
    {
     "name": "stdout",
     "output_type": "stream",
     "text": [
      "Will it work? True\n"
     ]
    },
    {
     "ename": "IndexError",
     "evalue": "index 2 is out of bounds for axis 0 with size 2",
     "output_type": "error",
     "traceback": [
      "\u001b[1;31m---------------------------------------------------------------------------\u001b[0m",
      "\u001b[1;31mIndexError\u001b[0m                                Traceback (most recent call last)",
      "Cell \u001b[1;32mIn[53], line 100\u001b[0m\n\u001b[0;32m     98\u001b[0m \u001b[38;5;28;01mtry\u001b[39;00m:\n\u001b[0;32m     99\u001b[0m     \u001b[38;5;28mprint\u001b[39m(\u001b[38;5;124m\"\u001b[39m\u001b[38;5;124mWill it work?\u001b[39m\u001b[38;5;124m\"\u001b[39m, will_it_work(nodes, meshes, currents, resistor_to_max_current))\n\u001b[1;32m--> 100\u001b[0m     solved_currents \u001b[38;5;241m=\u001b[39m solve_for_currents(nodes, meshes)\n\u001b[0;32m    101\u001b[0m     \u001b[38;5;28mprint\u001b[39m(\u001b[38;5;124m\"\u001b[39m\u001b[38;5;124mSolved currents:\u001b[39m\u001b[38;5;124m\"\u001b[39m, solved_currents)\n\u001b[0;32m    102\u001b[0m     powers \u001b[38;5;241m=\u001b[39m calculate_powers(meshes, solved_currents)\n",
      "Cell \u001b[1;32mIn[53], line 28\u001b[0m, in \u001b[0;36msolve_for_currents\u001b[1;34m(nodes, meshes)\u001b[0m\n\u001b[0;32m     26\u001b[0m     value \u001b[38;5;241m=\u001b[39m resistor\u001b[38;5;241m.\u001b[39mget(\u001b[38;5;124m\"\u001b[39m\u001b[38;5;124mvalue\u001b[39m\u001b[38;5;124m\"\u001b[39m, \u001b[38;5;241m0\u001b[39m)\n\u001b[0;32m     27\u001b[0m     direction \u001b[38;5;241m=\u001b[39m \u001b[38;5;241m1\u001b[39m \u001b[38;5;28;01mif\u001b[39;00m resistor[\u001b[38;5;124m\"\u001b[39m\u001b[38;5;124mdirection\u001b[39m\u001b[38;5;124m\"\u001b[39m] \u001b[38;5;241m==\u001b[39m \u001b[38;5;124m\"\u001b[39m\u001b[38;5;124mpositive\u001b[39m\u001b[38;5;124m\"\u001b[39m \u001b[38;5;28;01melse\u001b[39;00m \u001b[38;5;241m-\u001b[39m\u001b[38;5;241m1\u001b[39m\n\u001b[1;32m---> 28\u001b[0m     equation[current_idx] \u001b[38;5;241m+\u001b[39m\u001b[38;5;241m=\u001b[39m direction \u001b[38;5;241m*\u001b[39m value\n\u001b[0;32m     30\u001b[0m \u001b[38;5;28;01mfor\u001b[39;00m voltage \u001b[38;5;129;01min\u001b[39;00m mesh[\u001b[38;5;124m\"\u001b[39m\u001b[38;5;124mvoltages\u001b[39m\u001b[38;5;124m\"\u001b[39m]:\n\u001b[0;32m     31\u001b[0m     direction \u001b[38;5;241m=\u001b[39m \u001b[38;5;241m1\u001b[39m \u001b[38;5;28;01mif\u001b[39;00m voltage[\u001b[38;5;124m\"\u001b[39m\u001b[38;5;124mdirection\u001b[39m\u001b[38;5;124m\"\u001b[39m] \u001b[38;5;241m==\u001b[39m \u001b[38;5;124m\"\u001b[39m\u001b[38;5;124mrising\u001b[39m\u001b[38;5;124m\"\u001b[39m \u001b[38;5;28;01melse\u001b[39;00m \u001b[38;5;241m-\u001b[39m\u001b[38;5;241m1\u001b[39m\n",
      "\u001b[1;31mIndexError\u001b[0m: index 2 is out of bounds for axis 0 with size 2"
     ]
    }
   ],
   "source": [
    "import numpy as np\n",
    "\n",
    "class ShortCircuitError(Exception):\n",
    "    pass\n",
    "\n",
    "def will_it_work(nodes, meshes, currents, resistor_to_max_current):\n",
    "    for mesh in meshes:\n",
    "        for resistor in mesh[\"resistors\"]:\n",
    "            resistor_idx = resistor[\"resistor_idx\"]\n",
    "            current_idx = resistor[\"current_index\"]\n",
    "            if abs(currents[current_idx]) > resistor_to_max_current[resistor_idx]:\n",
    "                return False\n",
    "    return True\n",
    "\n",
    "def solve_for_currents(nodes, meshes):\n",
    "    equations = []\n",
    "    constants = []\n",
    "\n",
    "    # Формулиране на уравненията от втория закон на Кирхоф\n",
    "    for mesh in meshes:\n",
    "        equation = np.zeros(len(meshes))\n",
    "        voltage_sum = 0\n",
    "\n",
    "        for resistor in mesh[\"resistors\"]:\n",
    "            current_idx = resistor[\"current_index\"]\n",
    "            value = resistor.get(\"value\", 0)\n",
    "            direction = 1 if resistor[\"direction\"] == \"positive\" else -1\n",
    "            equation[current_idx] += direction * value\n",
    "\n",
    "        for voltage in mesh[\"voltages\"]:\n",
    "            direction = 1 if voltage[\"direction\"] == \"rising\" else -1\n",
    "            voltage_sum += direction * voltage[\"value\"]\n",
    "\n",
    "        equations.append(equation)\n",
    "        constants.append(voltage_sum)\n",
    "\n",
    "    # Решаване на системата от уравнения\n",
    "    A = np.array(equations)\n",
    "    b = np.array(constants)\n",
    "\n",
    "    if np.linalg.matrix_rank(A) < len(A):\n",
    "        raise ShortCircuitError(\"Няма решение за системата.\")\n",
    "\n",
    "    currents = np.linalg.lstsq(A, b, rcond=None)[0]\n",
    "    return currents.tolist()\n",
    "\n",
    "def calculate_powers(meshes, currents):\n",
    "    powers = []\n",
    "\n",
    "    for mesh in meshes:\n",
    "        for resistor in mesh[\"resistors\"]:\n",
    "            resistor_idx = resistor[\"resistor_idx\"]\n",
    "            current_idx = resistor[\"current_index\"]\n",
    "            value = resistor.get(\"value\", 0)\n",
    "\n",
    "            power = currents[current_idx]**2 * value\n",
    "            powers.append({\"resistor_idx\": resistor_idx, \"power\": power})\n",
    "\n",
    "    return powers\n",
    "\n",
    "# Примерни данни\n",
    "nodes = [\n",
    "    {\n",
    "        \"node_id\": 0,\n",
    "        \"incoming_currents\": [0],\n",
    "        \"outgoing_currents\": [1, 2]\n",
    "    }\n",
    "]\n",
    "\n",
    "meshes = [\n",
    "    {\n",
    "        \"mesh_id\": 0,\n",
    "        \"resistors\": [\n",
    "            {\"resistor_idx\": 0, \"value\": 10.0, \"current_index\": 0, \"direction\": \"positive\"},\n",
    "            {\"resistor_idx\": 1, \"value\": 1.0, \"current_index\": 2, \"direction\": \"positive\"}\n",
    "        ],\n",
    "        \"voltages\": [\n",
    "            {\"voltage_idx\": 0, \"value\": 9.0, \"direction\": \"rising\"}\n",
    "        ],\n",
    "    },\n",
    "    {\n",
    "        \"mesh_id\": 1,\n",
    "        \"resistors\": [\n",
    "            {\"resistor_idx\": 2, \"value\": 5.0, \"current_index\": 1, \"direction\": \"positive\"},\n",
    "            {\"resistor_idx\": 1, \"current_index\": 2, \"direction\": \"negative\"}\n",
    "        ],\n",
    "        \"voltages\": [\n",
    "            {\"voltage_idx\": 1, \"value\": 6.0, \"direction\": \"rising\"},\n",
    "            {\"voltage_idx\": 2, \"value\": 1.0, \"direction\": \"falling\"}\n",
    "        ],\n",
    "    }\n",
    "]\n",
    "\n",
    "currents = [0.5, 0.3, 0.2]\n",
    "resistor_to_max_current = [100, 50, 10]\n",
    "\n",
    "# Тестове\n",
    "try:\n",
    "    print(\"Will it work?\", will_it_work(nodes, meshes, currents, resistor_to_max_current))\n",
    "    solved_currents = solve_for_currents(nodes, meshes)\n",
    "    print(\"Solved currents:\", solved_currents)\n",
    "    powers = calculate_powers(meshes, solved_currents)\n",
    "    print(\"Powers:\", powers)\n",
    "except ShortCircuitError as e:\n",
    "    print(\"Error:\", e)\n"
   ]
  },
  {
   "cell_type": "code",
   "execution_count": null,
   "metadata": {},
   "outputs": [],
   "source": []
  },
  {
   "cell_type": "code",
   "execution_count": null,
   "metadata": {},
   "outputs": [],
   "source": []
  }
 ],
 "metadata": {
  "kernelspec": {
   "display_name": "env",
   "language": "python",
   "name": "python3"
  },
  "language_info": {
   "codemirror_mode": {
    "name": "ipython",
    "version": 3
   },
   "file_extension": ".py",
   "mimetype": "text/x-python",
   "name": "python",
   "nbconvert_exporter": "python",
   "pygments_lexer": "ipython3",
   "version": "3.12.7"
  }
 },
 "nbformat": 4,
 "nbformat_minor": 2
}
