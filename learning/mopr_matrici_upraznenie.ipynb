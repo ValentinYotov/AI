{
 "cells": [
  {
   "cell_type": "code",
   "execution_count": 1,
   "metadata": {},
   "outputs": [],
   "source": [
    "\n",
    "import numpy as np\n",
    "nodes = [{\n",
    "    'node_id': 0,\n",
    "    'incoming_current': [0,1],\n",
    "    'outgoing_current': [4]\n",
    "},\n",
    "]\n",
    "meshes = [\n",
    "{\n",
    "\"mesh_id\": 0,\n",
    "\"resistors\": [\n",
    "{\"resistor_idx\": 0, \"value\": 10.0, \"current_index\": 0, \"direction\": \"positive\"},\n",
    "{\"resistor_idx\": 1, \"value\": 9.0, \"current_index\": 4, \"direction\": \"positive\"},\n",
    "{\"resistor_idx\": 2, \"value\": 11.0, \"current_index\": 2, \"direction\": \"negative\"}\n",
    "],\n",
    "\"voltages\": [\n",
    "{\"value\": 12.0, \"direction\": \"rising\"},\n",
    "{\"value\": 9.0, \"direction\": \"dropping\"}\n",
    "],\n",
    "},\n",
    "]\n",
    "\n"
   ]
  },
  {
   "cell_type": "markdown",
   "metadata": {},
   "source": []
  }
 ],
 "metadata": {
  "kernelspec": {
   "display_name": "env",
   "language": "python",
   "name": "python3"
  },
  "language_info": {
   "codemirror_mode": {
    "name": "ipython",
    "version": 3
   },
   "file_extension": ".py",
   "mimetype": "text/x-python",
   "name": "python",
   "nbconvert_exporter": "python",
   "pygments_lexer": "ipython3",
   "version": "3.12.7"
  }
 },
 "nbformat": 4,
 "nbformat_minor": 2
}
