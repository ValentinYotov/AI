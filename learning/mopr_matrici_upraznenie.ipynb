{
 "cells": [
  {
   "cell_type": "code",
   "execution_count": 1,
   "metadata": {},
   "outputs": [],
   "source": [
    "\n",
    "import numpy as np\n",
    "nodes = [{\n",
    "    'node_id': 0,\n",
    "    'incoming_current': [0,1],\n",
    "    'outgoing_current': [4]\n",
    "},\n",
    "]\n",
    "meshes = [\n",
    "{\n",
    "\"mesh_id\": 0,\n",
    "\"resistors\": [\n",
    "{\"resistor_idx\": 0, \"value\": 10.0, \"current_index\": 0, \"direction\": \"positive\"},\n",
    "{\"resistor_idx\": 1, \"value\": 9.0, \"current_index\": 4, \"direction\": \"positive\"},\n",
    "{\"resistor_idx\": 2, \"value\": 11.0, \"current_index\": 2, \"direction\": \"negative\"}\n",
    "],\n",
    "\"voltages\": [\n",
    "{\"value\": 12.0, \"direction\": \"rising\"},\n",
    "{\"value\": 9.0, \"direction\": \"dropping\"}\n",
    "],\n",
    "},\n",
    "]\n",
    "\n"
   ]
  },
  {
   "cell_type": "code",
   "execution_count": 2,
   "metadata": {},
   "outputs": [],
   "source": [
    "def will_it_work(nodes, meshes, currents, resistor_to_max_current):\n",
    "    for mesh in meshes:\n",
    "        for resistor in mesh['resistors']:\n",
    "            resistor_idx = resistor['resistor_idx']\n",
    "            current_idx = resistor['current_index']\n",
    "            if abs(currents[current_idx]) > resistor_to_max_current[resistor_idx]:\n",
    "                return False\n",
    "    return True"
   ]
  },
  {
   "cell_type": "code",
   "execution_count": 3,
   "metadata": {},
   "outputs": [],
   "source": [
    "\n",
    "currents = [0.5, 11.3, 0.2, 0.1, 0.4] \n",
    "resistor_to_max_current = [1.0, 2.8, 1.2]"
   ]
  },
  {
   "cell_type": "code",
   "execution_count": 4,
   "metadata": {},
   "outputs": [
    {
     "name": "stdout",
     "output_type": "stream",
     "text": [
      "Веригата ще работи безопасно.\n"
     ]
    }
   ],
   "source": [
    "if will_it_work(nodes, meshes, currents, resistor_to_max_current):\n",
    "    print(\"Веригата ще работи безопасно.\")\n",
    "else:\n",
    "    print(\"Веригата ще изгори!\")"
   ]
  },
  {
   "cell_type": "code",
   "execution_count": 5,
   "metadata": {},
   "outputs": [
    {
     "name": "stderr",
     "output_type": "stream",
     "text": [
      "C:\\Users\\vyoto\\AppData\\Local\\Temp\\ipykernel_19052\\2350061129.py:9: FutureWarning: `rcond` parameter will change to the default of machine precision times ``max(M, N)`` where M and N are the input matrix dimensions.\n",
      "To use the future default and silence this warning we advise to pass `rcond=None`, to keep using the old, explicitly pass `rcond=-1`.\n",
      "  result = np.linalg.lstsq(A,b)\n"
     ]
    },
    {
     "data": {
      "text/plain": [
       "(array([0., 0., 0., 0.]),\n",
       " array([], dtype=float64),\n",
       " 3,\n",
       " array([3.02044792, 2.23606798, 0.93642638]))"
      ]
     },
     "execution_count": 5,
     "metadata": {},
     "output_type": "execute_result"
    }
   ],
   "source": [
    "A = np.array([\n",
    "    [1, 0, -1, 0],   # Уравнение за въглерод (C)\n",
    "    [0, 2, 0, -2],   # Уравнение за водород (H)\n",
    "    [0, 0, 2, -1]    # Уравнение за кислород (O)\n",
    "])\n",
    "\n",
    "b = np.array([0, 0, 0])  \n",
    "\n",
    "result = np.linalg.lstsq(A,b)\n",
    "result"
   ]
  },
  {
   "cell_type": "code",
   "execution_count": 6,
   "metadata": {},
   "outputs": [
    {
     "name": "stdout",
     "output_type": "stream",
     "text": [
      "Решение (x): [0. 0. 0. 0.]\n",
      "Остатъчна грешка: []\n",
      "Ранг на матрицата: 3\n",
      "Сингуларни стойности: [3.02044792 2.23606798 0.93642638]\n"
     ]
    }
   ],
   "source": [
    "import numpy as np\n",
    "\n",
    "A = np.array([\n",
    "    [1, 0, -1, 0],   # Уравнение за въглерод (C)\n",
    "    [0, 2, 0, -2],   # Уравнение за водород (H)\n",
    "    [0, 0, 2, -1]    # Уравнение за кислород (O)\n",
    "])\n",
    "\n",
    "b = np.array([0, 0, 0])  # Дясната страна на уравнението\n",
    "\n",
    "# Решение чрез np.linalg.lstsq\n",
    "result = np.linalg.lstsq(A, b, rcond=None)\n",
    "\n",
    "solution, residuals, rank, singular_values = result\n",
    "\n",
    "# Показване на резултата\n",
    "print(\"Решение (x):\", solution)\n",
    "print(\"Остатъчна грешка:\", residuals)\n",
    "print(\"Ранг на матрицата:\", rank)\n",
    "print(\"Сингуларни стойности:\", singular_values)\n"
   ]
  },
  {
   "cell_type": "code",
   "execution_count": 7,
   "metadata": {},
   "outputs": [],
   "source": [
    "import numpy as np\n",
    "\n",
    "# Разходи за пренос на енергия\n",
    "costs = np.array([\n",
    "    [5, 8, 6],\n",
    "    [6, 4, 3],\n",
    "    [3, 5, 7]\n",
    "])\n",
    "\n",
    "\n",
    "supply = np.array([50, 60, 70])\n",
    "\n",
    "# Търсене в градовете\n",
    "demand = np.array([40, 50, 90])\n",
    "\n",
    "a = np.eye(4)"
   ]
  },
  {
   "cell_type": "code",
   "execution_count": null,
   "metadata": {},
   "outputs": [],
   "source": []
  },
  {
   "cell_type": "code",
   "execution_count": 8,
   "metadata": {},
   "outputs": [
    {
     "name": "stdout",
     "output_type": "stream",
     "text": [
      "Матрица A:\n",
      "[[1 2 3]\n",
      " [4 5 6]\n",
      " [7 8 9]]\n",
      "\n",
      "Матрица B:\n",
      "[[0. 0.]\n",
      " [0. 0.]\n",
      " [0. 0.]]\n"
     ]
    }
   ],
   "source": [
    "import numpy as np\n",
    "\n",
    "# Матрица A (числата от 1 до 9)\n",
    "A = np.array([[1, 2, 3], [4, 5, 6], [7, 8, 9]])\n",
    "\n",
    "# Матрица B (матрица от нули с размер 3x2)\n",
    "B = np.zeros((3, 2))\n",
    "\n",
    "print(\"Матрица A:\")\n",
    "print(A)\n",
    "print(\"\\nМатрица B:\")\n",
    "print(B)"
   ]
  },
  {
   "cell_type": "code",
   "execution_count": 9,
   "metadata": {},
   "outputs": [],
   "source": [
    "import numpy as np\n",
    "\n",
    "# Матрица A и вектор B\n",
    "A = np.array([[2, 1], [1, 3]])\n",
    "B = np.array([8, 18])\n",
    "\n",
    "result,_,_,_ = np.linalg.lstsq(A,B,rcond=None)"
   ]
  },
  {
   "cell_type": "code",
   "execution_count": 10,
   "metadata": {},
   "outputs": [
    {
     "data": {
      "text/plain": [
       "array([1.2, 5.6])"
      ]
     },
     "execution_count": 10,
     "metadata": {},
     "output_type": "execute_result"
    }
   ],
   "source": [
    "result"
   ]
  },
  {
   "cell_type": "code",
   "execution_count": 11,
   "metadata": {},
   "outputs": [
    {
     "name": "stdout",
     "output_type": "stream",
     "text": [
      "Блокова матрица C:\n",
      "[[1. 2. 0. 0.]\n",
      " [3. 4. 0. 0.]\n",
      " [0. 0. 1. 2.]\n",
      " [0. 0. 3. 4.]]\n"
     ]
    }
   ],
   "source": [
    "import numpy as np\n",
    "\n",
    "# Матрици A и B\n",
    "A = np.array([[1, 2], [3, 4]])\n",
    "B = np.zeros((2, 2))\n",
    "\n",
    "# Построяване на блокова матрица C\n",
    "C = np.vstack((np.hstack((A, B)), np.hstack((B, A))))\n",
    "d = np.vstack((A,B))\n",
    "print(\"Блокова матрица C:\")\n",
    "print(C)\n"
   ]
  },
  {
   "cell_type": "code",
   "execution_count": 12,
   "metadata": {},
   "outputs": [
    {
     "data": {
      "text/plain": [
       "array([[1., 3., 0., 0.],\n",
       "       [2., 4., 0., 0.]])"
      ]
     },
     "execution_count": 12,
     "metadata": {},
     "output_type": "execute_result"
    }
   ],
   "source": [
    "\n",
    "np.transpose(d)"
   ]
  },
  {
   "cell_type": "code",
   "execution_count": 13,
   "metadata": {},
   "outputs": [
    {
     "data": {
      "text/plain": [
       "array([[1., 2.],\n",
       "       [3., 4.],\n",
       "       [0., 0.],\n",
       "       [0., 0.]])"
      ]
     },
     "execution_count": 13,
     "metadata": {},
     "output_type": "execute_result"
    }
   ],
   "source": [
    "d"
   ]
  },
  {
   "cell_type": "code",
   "execution_count": 14,
   "metadata": {},
   "outputs": [],
   "source": [
    "def will_it_work(nodes, meshes, currents, resistor_to_max_current):\n",
    "    \"\"\"\n",
    "    Проверява дали токовете през резисторите са в допустимите граници.\n",
    "    \"\"\"\n",
    "    for mesh in meshes:\n",
    "        for resistor in mesh['resistors']:\n",
    "            resistor_idx = resistor['resistor_idx'] \n",
    "            current_idx = resistor['current_index'] \n",
    "            current_value = abs(currents[current_idx]) \n",
    "            \n",
    "            # Проверка дали токът е по-голям от максималния допустим ток\n",
    "            if current_value > resistor_to_max_current[resistor_idx]:\n",
    "                return False  # Веригата ще изгори\n",
    "    return True  # Веригата ще работи"
   ]
  },
  {
   "cell_type": "code",
   "execution_count": 15,
   "metadata": {},
   "outputs": [
    {
     "name": "stdout",
     "output_type": "stream",
     "text": [
      "Веригата ще работи? Не\n"
     ]
    }
   ],
   "source": [
    "# Примерни данни\n",
    "meshes = [\n",
    "    {\n",
    "        \"resistors\": [\n",
    "            {\"resistor_idx\": 0, \"value\": 10.0, \"current_index\": 0},\n",
    "            {\"resistor_idx\": 1, \"value\": 5.0, \"current_index\": 1},\n",
    "        ]\n",
    "    },\n",
    "    {\n",
    "        \"resistors\": [\n",
    "            {\"resistor_idx\": 2, \"value\": 15.0, \"current_index\": 2},\n",
    "        ]\n",
    "    }\n",
    "]\n",
    "\n",
    "currents = [0.5, 1.2, 2.0]\n",
    "resistor_to_max_current = [0.0, 1.5, 2.5]  \n",
    "\n",
    "# Проверка дали веригата ще работи\n",
    "result = will_it_work(nodes, meshes, currents, resistor_to_max_current)\n",
    "print(\"Веригата ще работи?\" , \"Да\" if result else \"Не\")"
   ]
  },
  {
   "cell_type": "code",
   "execution_count": 16,
   "metadata": {},
   "outputs": [
    {
     "data": {
      "text/plain": [
       "-2"
      ]
     },
     "execution_count": 16,
     "metadata": {},
     "output_type": "execute_result"
    }
   ],
   "source": [
    "-abs(abs(abs(abs(2))))"
   ]
  },
  {
   "cell_type": "code",
   "execution_count": 17,
   "metadata": {},
   "outputs": [],
   "source": [
    "def calculate_powers(meshes, currents):\n",
    "    powers = []\n",
    "    for mesh in meshes:\n",
    "        for res in mesh['resistors']:\n",
    "            res_idx = res['resistor_idx']\n",
    "            cur_idx = res['current_index']\n",
    "            current = abs(currents[cur_idx])\n",
    "            powers.append(((current*current)*res['value']))\n",
    "    return powers\n"
   ]
  },
  {
   "cell_type": "code",
   "execution_count": 18,
   "metadata": {},
   "outputs": [
    {
     "name": "stdout",
     "output_type": "stream",
     "text": [
      "Мощности на резисторите: [2.5, 7.199999999999999, 60.0]\n"
     ]
    }
   ],
   "source": [
    "meshes = [\n",
    "    {\n",
    "        \"resistors\": [\n",
    "            {\"resistor_idx\": 0, \"value\": 10.0, \"current_index\": 0},\n",
    "            {\"resistor_idx\": 1, \"value\": 5.0, \"current_index\": 1},\n",
    "        ]\n",
    "    },\n",
    "    {\n",
    "        \"resistors\": [\n",
    "            {\"resistor_idx\": 2, \"value\": 15.0, \"current_index\": 2},\n",
    "        ]\n",
    "    }\n",
    "]\n",
    "\n",
    "# Примерни токове\n",
    "currents = [0.5, 1.2, 2.0]  # Токове във веригата (в Ампери)\n",
    "\n",
    "# Изчисляване на мощностите\n",
    "powers = calculate_powers(meshes, currents)\n",
    "\n",
    "# Извеждане на резултата\n",
    "print(\"Мощности на резисторите:\", powers)"
   ]
  },
  {
   "cell_type": "code",
   "execution_count": 27,
   "metadata": {},
   "outputs": [
    {
     "data": {
      "text/plain": [
       "array([[1., 0.],\n",
       "       [0., 1.]])"
      ]
     },
     "execution_count": 27,
     "metadata": {},
     "output_type": "execute_result"
    }
   ],
   "source": [
    "a = np.array(([2,3],[1,4]))\n",
    "b = np.array(([1,2],[3,1]))\n",
    "c = np.array(([7,5],[6,8]))\n",
    "ab = np.add(a,b)\n",
    "mult = np.matmul(a,b)\n",
    "if np.linalg.det(a) != 0:\n",
    "    result = np.linalg.inv(a)\n",
    "result2 = np.matmul(a,result)\n",
    "result2"
   ]
  },
  {
   "cell_type": "code",
   "execution_count": 30,
   "metadata": {},
   "outputs": [
    {
     "name": "stdout",
     "output_type": "stream",
     "text": [
      "Попълнена матрица:\n",
      "[[0. 1. 2. 3.]\n",
      " [1. 2. 3. 4.]\n",
      " [2. 3. 4. 5.]]\n"
     ]
    }
   ],
   "source": [
    "import numpy as np\n",
    "\n",
    "# Създаваме празна матрица с нули\n",
    "matrix = np.zeros((3, 4))\n",
    "\n",
    "# Попълваме матрицата със стойности i + j\n",
    "for i in range(matrix.shape[0]):\n",
    "    for j in range(matrix.shape[1]):\n",
    "        matrix[i, j] = i + j\n",
    "\n",
    "print(\"Попълнена матрица:\")\n",
    "print(matrix)"
   ]
  },
  {
   "cell_type": "code",
   "execution_count": 36,
   "metadata": {},
   "outputs": [
    {
     "name": "stdout",
     "output_type": "stream",
     "text": [
      "Комбинирана матрица (хоризонтално):\n",
      "[[1 2 5 6]\n",
      " [3 4 7 8]]\n",
      "Първи ред: [1 2 5 6]\n"
     ]
    }
   ],
   "source": [
    "A = np.array([[1, 2], [3, 4]])\n",
    "B = np.array([[5, 6], [7, 8]])\n",
    "\n",
    "# Комбинираме хоризонтално\n",
    "combined = np.hstack((A, B))\n",
    "print(\"Комбинирана матрица (хоризонтално):\")\n",
    "print(combined)\n",
    "\n",
    "# Извличаме първия ред\n",
    "first_row = combined[0,:]\n",
    "print(\"Първи ред:\", first_row)"
   ]
  },
  {
   "cell_type": "code",
   "execution_count": 37,
   "metadata": {},
   "outputs": [
    {
     "name": "stdout",
     "output_type": "stream",
     "text": [
      "Решение (x1, x2): [4. 2.]\n"
     ]
    }
   ],
   "source": [
    "import numpy as np\n",
    "\n",
    "# Матрица на коефициентите\n",
    "A = np.array([[1, 1], [1, -1]])\n",
    "\n",
    "# Вектор на резултатите\n",
    "b = np.array([6, 2])\n",
    "\n",
    "# Решаване чрез метода на най-малките квадрати\n",
    "x, residuals, rank, s = np.linalg.lstsq(A, b, rcond=None)\n",
    "\n",
    "print(\"Решение (x1, x2):\", x)"
   ]
  },
  {
   "cell_type": "code",
   "execution_count": 41,
   "metadata": {},
   "outputs": [
    {
     "name": "stdout",
     "output_type": "stream",
     "text": [
      "4\n"
     ]
    }
   ],
   "source": [
    "M = np.array([[1, 2, 3], [4, 5, 6], [7, 8, 9],[1,2,3]])\n",
    "print(M.shape[0])"
   ]
  },
  {
   "cell_type": "code",
   "execution_count": 43,
   "metadata": {},
   "outputs": [
    {
     "data": {
      "text/plain": [
       "33"
      ]
     },
     "execution_count": 43,
     "metadata": {},
     "output_type": "execute_result"
    }
   ],
   "source": [
    "result = 33\n",
    "\n",
    "def random(a):\n",
    "    a = a+2\n",
    "    return result\n",
    "random(5)"
   ]
  },
  {
   "cell_type": "code",
   "execution_count": 7,
   "metadata": {},
   "outputs": [
    {
     "name": "stdout",
     "output_type": "stream",
     "text": [
      "0\n"
     ]
    }
   ],
   "source": [
    "for i in range(0,10,5):\n",
    "\n",
    "    if i == 5:\n",
    "        break\n",
    "    print(i)"
   ]
  },
  {
   "cell_type": "code",
   "execution_count": null,
   "metadata": {},
   "outputs": [],
   "source": []
  }
 ],
 "metadata": {
  "kernelspec": {
   "display_name": "Python 3",
   "language": "python",
   "name": "python3"
  },
  "language_info": {
   "codemirror_mode": {
    "name": "ipython",
    "version": 3
   },
   "file_extension": ".py",
   "mimetype": "text/x-python",
   "name": "python",
   "nbconvert_exporter": "python",
   "pygments_lexer": "ipython3",
   "version": "3.12.7"
  }
 },
 "nbformat": 4,
 "nbformat_minor": 2
}
